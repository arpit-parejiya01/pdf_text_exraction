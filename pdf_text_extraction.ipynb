{
  "nbformat": 4,
  "nbformat_minor": 0,
  "metadata": {
    "colab": {
      "provenance": [],
      "authorship_tag": "ABX9TyPZ9fqU+y/pRW+hFjCibpOS",
      "include_colab_link": true
    },
    "kernelspec": {
      "name": "python3",
      "display_name": "Python 3"
    },
    "language_info": {
      "name": "python"
    }
  },
  "cells": [
    {
      "cell_type": "markdown",
      "metadata": {
        "id": "view-in-github",
        "colab_type": "text"
      },
      "source": [
        "<a href=\"https://colab.research.google.com/github/arpit-parejiya01/pdf_text_exraction/blob/main/pdf_text_extraction.ipynb\" target=\"_parent\"><img src=\"https://colab.research.google.com/assets/colab-badge.svg\" alt=\"Open In Colab\"/></a>"
      ]
    },
    {
      "cell_type": "code",
      "execution_count": null,
      "metadata": {
        "colab": {
          "base_uri": "https://localhost:8080/"
        },
        "id": "JzHykCe3Y2VY",
        "outputId": "1fefec6f-faf9-4936-d05f-33ba3e01860e"
      },
      "outputs": [
        {
          "output_type": "stream",
          "name": "stdout",
          "text": [
            "Requirement already satisfied: pytesseract in /usr/local/lib/python3.10/dist-packages (0.3.10)\n",
            "Requirement already satisfied: Pillow in /usr/local/lib/python3.10/dist-packages (9.4.0)\n",
            "Requirement already satisfied: PyPDF2 in /usr/local/lib/python3.10/dist-packages (3.0.1)\n",
            "Requirement already satisfied: packaging>=21.3 in /usr/local/lib/python3.10/dist-packages (from pytesseract) (24.0)\n",
            "Collecting pdf2image\n",
            "  Downloading pdf2image-1.17.0-py3-none-any.whl (11 kB)\n",
            "Requirement already satisfied: pillow in /usr/local/lib/python3.10/dist-packages (from pdf2image) (9.4.0)\n",
            "Installing collected packages: pdf2image\n",
            "Successfully installed pdf2image-1.17.0\n"
          ]
        }
      ],
      "source": [
        "%pip install pytesseract Pillow PyPDF2\n",
        "# !pip install pdf2image\n"
      ]
    },
    {
      "cell_type": "code",
      "source": [
        "%pip install pdf2image"
      ],
      "metadata": {
        "colab": {
          "base_uri": "https://localhost:8080/"
        },
        "id": "b7RAO-TfcfGg",
        "outputId": "3cbdbdb4-94f2-435c-bba1-e7cca6b596bf"
      },
      "execution_count": null,
      "outputs": [
        {
          "output_type": "stream",
          "name": "stdout",
          "text": [
            "Requirement already satisfied: pdf2image in /usr/local/lib/python3.10/dist-packages (1.17.0)\n",
            "Requirement already satisfied: pillow in /usr/local/lib/python3.10/dist-packages (from pdf2image) (9.4.0)\n"
          ]
        }
      ]
    },
    {
      "cell_type": "code",
      "source": [
        "!sudo apt-get install poppler-utils"
      ],
      "metadata": {
        "id": "6J5uhTQXcyn3"
      },
      "execution_count": null,
      "outputs": []
    },
    {
      "cell_type": "code",
      "source": [
        "!sudo apt-get update\n",
        "!sudo apt-get install tesseract-ocr\n"
      ],
      "metadata": {
        "id": "atU62XBYdTRg"
      },
      "execution_count": null,
      "outputs": []
    },
    {
      "cell_type": "code",
      "source": [
        "import os\n",
        "import pytesseract\n",
        "from pdf2image import convert_from_path\n",
        "from PyPDF2 import PdfReader\n",
        "\n",
        "def extract_text_from_pdf(pdf_path):\n",
        "    \"\"\"\n",
        "    Extract text from a PDF file.\n",
        "    \"\"\"\n",
        "    # Open the PDF file\n",
        "    with open(pdf_path, 'rb') as file:\n",
        "        # Create a PDF reader object\n",
        "        pdf_reader = PdfReader(file)\n",
        "\n",
        "        # Initialize variable to store extracted text\n",
        "        text = \"\"\n",
        "\n",
        "        # Iterate through each page of the PDF\n",
        "        for page_num in range(len(pdf_reader.pages)):\n",
        "            # Extract text from the current page\n",
        "            page_text = pdf_reader.pages[page_num].extract_text()\n",
        "            # Append the extracted text to the overall text\n",
        "            text += page_text\n",
        "\n",
        "    return text\n",
        "\n",
        "def save_pages_as_images(pdf_path, output_folder):\n",
        "    \"\"\"\n",
        "    Convert the first 10 pages of a PDF file into images and save them in a folder.\n",
        "    \"\"\"\n",
        "    # Create the output folder if it doesn't exist\n",
        "    os.makedirs(output_folder, exist_ok=True)\n",
        "\n",
        "    # Convert PDF pages to images using pdf2image\n",
        "    images = convert_from_path(pdf_path, dpi=300, first_page=1, last_page=5)\n",
        "\n",
        "    # Save the images to the output folder\n",
        "    for i, image in enumerate(images):\n",
        "        page_image_path = os.path.join(output_folder, f\"page_{i + 1}.png\")\n",
        "        image.save(page_image_path, 'PNG')\n",
        "        print(f\"Page {i + 1} saved as {page_image_path}\")\n",
        "\n",
        "# Specify the path to the PDF file\n",
        "pdf_path = \"/content/Path of Ahinsa-1-10.pdf\"\n",
        "\n",
        "# Specify the output folder for saving the images\n",
        "output_folder = \"pages_images\"\n",
        "\n",
        "# Call the function to save the pages as images\n",
        "save_pages_as_images(pdf_path, output_folder)\n"
      ],
      "metadata": {
        "colab": {
          "base_uri": "https://localhost:8080/"
        },
        "id": "DuQC37NjbpT_",
        "outputId": "af9fb071-a3ea-4a66-c69c-217131c54d00"
      },
      "execution_count": null,
      "outputs": [
        {
          "output_type": "stream",
          "name": "stdout",
          "text": [
            "Page 1 saved as pages_images/page_1.png\n",
            "Page 2 saved as pages_images/page_2.png\n",
            "Page 3 saved as pages_images/page_3.png\n",
            "Page 4 saved as pages_images/page_4.png\n",
            "Page 5 saved as pages_images/page_5.png\n"
          ]
        }
      ]
    },
    {
      "cell_type": "code",
      "source": [
        "import os\n",
        "import pytesseract\n",
        "from PIL import Image\n",
        "\n",
        "def extract_text_from_image(image_path):\n",
        "    \"\"\"\n",
        "    Extract text from an image using OCR.\n",
        "    \"\"\"\n",
        "    # Open the image file\n",
        "    with Image.open(image_path) as img:\n",
        "        # Perform OCR to extract text\n",
        "        extracted_text = pytesseract.image_to_string(img)\n",
        "    return extracted_text\n",
        "\n",
        "def process_images(directory, output_file):\n",
        "    \"\"\"\n",
        "    Process images in the directory and store text in the output file.\n",
        "    \"\"\"\n",
        "    # Open the output file in append mode\n",
        "    with open(output_file, 'a') as f:\n",
        "        # Iterate over each file in the directory\n",
        "        for filename in os.listdir(directory):\n",
        "            # Check if the file is an image\n",
        "            if filename.endswith(\".png\") or filename.endswith(\".jpg\") or filename.endswith(\".jpeg\"):\n",
        "                # Construct the full path to the image\n",
        "                image_path = os.path.join(directory, filename)\n",
        "                # Extract text from the image\n",
        "                extracted_text = extract_text_from_image(image_path)\n",
        "                # Write the extracted text to the output file\n",
        "                f.write(f\"Text from {filename}:\\n{extracted_text}\\n\\n\")\n",
        "\n",
        "# Specify the directory containing images\n",
        "image_directory = \"pages_images\"\n",
        "\n",
        "# Specify the output text file\n",
        "output_file = \"extracted_text.txt\"\n",
        "\n",
        "# Call the function to process images and store text in the output file\n",
        "process_images(image_directory, output_file)\n",
        "\n",
        "print(\"Text extraction completed. Extracted text saved in\", output_file)\n"
      ],
      "metadata": {
        "colab": {
          "base_uri": "https://localhost:8080/"
        },
        "id": "ddOeU6JXcaiF",
        "outputId": "b0d3b931-bf06-417d-c392-38146610ef0e"
      },
      "execution_count": null,
      "outputs": [
        {
          "output_type": "stream",
          "name": "stdout",
          "text": [
            "Text extraction completed. Extracted text saved in extracted_text.txt\n"
          ]
        }
      ]
    },
    {
      "cell_type": "code",
      "source": [
        "pwd"
      ],
      "metadata": {
        "colab": {
          "base_uri": "https://localhost:8080/",
          "height": 36
        },
        "id": "wjGO2FQPdP5F",
        "outputId": "724ced28-df8b-4671-ab49-a0becc418275"
      },
      "execution_count": null,
      "outputs": [
        {
          "output_type": "execute_result",
          "data": {
            "text/plain": [
              "'/content'"
            ],
            "application/vnd.google.colaboratory.intrinsic+json": {
              "type": "string"
            }
          },
          "metadata": {},
          "execution_count": 28
        }
      ]
    },
    {
      "cell_type": "code",
      "source": [
        "ls"
      ],
      "metadata": {
        "colab": {
          "base_uri": "https://localhost:8080/"
        },
        "id": "VguvflVFeR3X",
        "outputId": "40829289-fe61-4bbc-da5e-0b77d44e7b53"
      },
      "execution_count": null,
      "outputs": [
        {
          "output_type": "stream",
          "name": "stdout",
          "text": [
            " B006974_Jaina_Theories_of_Reality_and_Knowledge-1-30.pdf  'Path of Ahinsa-1-10.pdf'\n",
            " \u001b[0m\u001b[01;34mpages_images\u001b[0m/                                              \u001b[01;34msample_data\u001b[0m/\n"
          ]
        }
      ]
    },
    {
      "cell_type": "markdown",
      "source": [
        "\n",
        "Based on the raw text you provided, here are the extracted book name, author name, and publisher name:\n",
        "\n",
        "Book Name: A COMPARATIVE STUDY OF THE JAINA THEORIES OF REALITY AND KNOWLEDGE\n",
        "Author Name: The Late Dr. Y. J. PADMARAJIAH M. A., D. Phil. (Oxon.)\n",
        "Publisher Name: JAIN SAHITYA VIKAS MANDAL, Bombay 56\n",
        "If you have any other questions or need further assistance, feel free to ask!"
      ],
      "metadata": {
        "id": "bOB8q9ZmeqUi"
      }
    },
    {
      "cell_type": "code",
      "source": [
        "%pip install openai"
      ],
      "metadata": {
        "colab": {
          "base_uri": "https://localhost:8080/"
        },
        "id": "hGB-xWpzgPD7",
        "outputId": "16b3ed3a-12a8-4724-ae45-e9d4e23cf44a"
      },
      "execution_count": null,
      "outputs": [
        {
          "output_type": "stream",
          "name": "stdout",
          "text": [
            "Installing collected packages: h11, httpcore, httpx, openai\n",
            "Successfully installed h11-0.14.0 httpcore-1.0.5 httpx-0.27.0 openai-1.25.2\n"
          ]
        }
      ]
    },
    {
      "cell_type": "code",
      "source": [
        "# Open the text file for reading\n",
        "with open(\"/content/extracted_text.txt\", \"r\") as file:\n",
        "    # Read the contents of the file\n",
        "    text = file.read()\n",
        "\n",
        "# Print the contents of the file\n",
        "print(text)\n"
      ],
      "metadata": {
        "id": "W8hreL3qiGpJ"
      },
      "execution_count": null,
      "outputs": []
    },
    {
      "cell_type": "code",
      "source": [
        "import pandas as pd\n",
        "import json\n",
        "with open(\"/content/extracted_text.txt\", \"r\") as file:\n",
        "    # Read the contents of the file\n",
        "    text = file.read()\n",
        "\n",
        "def main(text):\n",
        "    messages = [\n",
        "        {\n",
        "            \"role\": \"system\",\n",
        "            \"content\": f'''This is the rwa text:- {text} , Now you have to tell me \"Book name\", \"author name\",\"publisher\":-\n",
        "            And only return these key's value.'''\n",
        "        }\n",
        "    ]\n",
        "\n",
        "    response = client.chat.completions.create(\n",
        "        model=\"gpt-3.5-turbo\",\n",
        "        messages=messages,\n",
        "        temperature=1,\n",
        "        max_tokens=200,\n",
        "        top_p=1,\n",
        "    )\n",
        "\n",
        "    names = response.choices[0].message.content\n",
        "    return names\n",
        "\n",
        "main(text)"
      ],
      "metadata": {
        "colab": {
          "base_uri": "https://localhost:8080/",
          "height": 36
        },
        "id": "ObTUPFlHgPQE",
        "outputId": "cbf813e2-2169-499c-f4bd-43b41ad615ef"
      },
      "execution_count": null,
      "outputs": [
        {
          "output_type": "execute_result",
          "data": {
            "text/plain": [
              "'Book name: The Jaina Path of Ahimsa\\nAuthor name: Dr. Vilas Sangave\\nPublisher: Bhagawan Mahavir Research Centre'"
            ],
            "application/vnd.google.colaboratory.intrinsic+json": {
              "type": "string"
            }
          },
          "metadata": {},
          "execution_count": 41
        }
      ]
    },
    {
      "cell_type": "code",
      "source": [
        "# Book name: The Jaina Path of Ahimsa\n",
        "# Author name: Dr. Vilas Sangave\n",
        "# Publisher: Bhagawan Mahavir Research Centre"
      ],
      "metadata": {
        "id": "ae6_6yTIhtgx"
      },
      "execution_count": null,
      "outputs": []
    },
    {
      "cell_type": "code",
      "source": [],
      "metadata": {
        "id": "ao2mnEXUi1wN"
      },
      "execution_count": null,
      "outputs": []
    }
  ]
}